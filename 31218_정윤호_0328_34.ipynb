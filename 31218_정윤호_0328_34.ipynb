{
 "cells": [
  {
   "cell_type": "markdown",
   "id": "556f0c19",
   "metadata": {},
   "source": [
    "31218_정윤호_0328_24"
   ]
  },
  {
   "cell_type": "markdown",
   "id": "19ddae95",
   "metadata": {},
   "source": [
    "구구단 외울 단을입력받아, 해당 숫자의 구구단을 외워봅시다.\n",
    "ex.5를 입력받으면 5단 외우기"
   ]
  },
  {
   "cell_type": "code",
   "execution_count": 6,
   "id": "6248bc76",
   "metadata": {},
   "outputs": [
    {
     "name": "stdout",
     "output_type": "stream",
     "text": [
      "몇 단을 외워볼까요? 1\n",
      "1 x 1 = 1\n",
      "1 x 2 = 2\n",
      "1 x 3 = 3\n",
      "1 x 4 = 4\n",
      "1 x 5 = 5\n",
      "1 x 6 = 6\n",
      "1 x 7 = 7\n",
      "1 x 8 = 8\n",
      "1 x 9 = 9\n"
     ]
    }
   ],
   "source": [
    "a = int(input('몇 단을 외워볼까요? '))\n",
    "\n",
    "for i in range(1,10) :\n",
    "    print(a,'x',i,'=',a*i)\n"
   ]
  },
  {
   "cell_type": "code",
   "execution_count": 10,
   "id": "36ad8ed2",
   "metadata": {},
   "outputs": [
    {
     "name": "stdout",
     "output_type": "stream",
     "text": [
      "사과\n",
      "귤\n",
      "수박\n"
     ]
    }
   ],
   "source": [
    "# for문의 실행결과를 예측하라.\n",
    "과일 = ['사과','귤','수박']\n",
    "# print(과일[0])\n",
    "# print(과일[1])\n",
    "# print(과일[2])\n",
    "for i in 과일:\n",
    "    print(i)"
   ]
  },
  {
   "cell_type": "markdown",
   "id": "64e5539a",
   "metadata": {},
   "source": [
    "```\n",
    "문제\n",
    "변수 = \"A\"\n",
    "print(변수)\n",
    "변수 = \"B\"\n",
    "print(변수)\n",
    "qustn- \"c\"\n",
    "print(변수)\n",
    "```"
   ]
  },
  {
   "cell_type": "code",
   "execution_count": 13,
   "id": "76d3d69f",
   "metadata": {},
   "outputs": [
    {
     "name": "stdout",
     "output_type": "stream",
     "text": [
      "a\n",
      "b\n",
      "c\n"
     ]
    }
   ],
   "source": [
    "for i in['a','b','c'] :\n",
    "    print(i)"
   ]
  },
  {
   "cell_type": "markdown",
   "id": "f43a9a7a",
   "metadata": {},
   "source": [
    "```\n",
    "우선, for문을 사용하지 않고 모두 값에 10을 더하는 코드를 작성해 보시다.\n",
    "\n",
    "변수 = 100\n",
    "print(변수 + 10)\n",
    "변수 = 200\n",
    "print(변수 + 10)\n",
    "변수 = 300\n",
    "print(변수 + 10)\n",
    "\n",
    "for문을 사용하여 변경해보자\n",
    "```"
   ]
  },
  {
   "cell_type": "code",
   "execution_count": 17,
   "id": "79df5b75",
   "metadata": {},
   "outputs": [
    {
     "name": "stdout",
     "output_type": "stream",
     "text": [
      "110\n",
      "210\n",
      "310\n"
     ]
    }
   ],
   "source": [
    "for i in [100,200,300] :\n",
    "    i+=10\n",
    "    print(i)"
   ]
  },
  {
   "cell_type": "markdown",
   "id": "40130a78",
   "metadata": {},
   "source": [
    "### 문제\n",
    "- 오늘의 메뉴 : 김밥\n",
    "- 오늘의 메뉴 : 라면\n",
    "- 오늘의 메뉴 : 튀김"
   ]
  },
  {
   "cell_type": "code",
   "execution_count": 23,
   "id": "b88abb07",
   "metadata": {},
   "outputs": [
    {
     "name": "stdout",
     "output_type": "stream",
     "text": [
      "오늘의 며뉴: 김밥\n",
      "오늘의 며뉴: 라면\n",
      "오늘의 며뉴: 튀김\n"
     ]
    }
   ],
   "source": [
    "menu = ['김밥','라면','튀김']\n",
    "for i in menu :\n",
    "    print('오늘의 며뉴:',i)"
   ]
  },
  {
   "attachments": {},
   "cell_type": "markdown",
   "id": "5220c040",
   "metadata": {},
   "source": [
    "# 5. 렌덤 구구단 게임 작성하기\n",
    "\n",
    "렌덤으로 곱샘문제를 내고, 답을 맞추는 게임"
   ]
  },
  {
   "cell_type": "code",
   "execution_count": 50,
   "id": "22e5ad32",
   "metadata": {},
   "outputs": [
    {
     "data": {
      "text/plain": [
       "0.7560291564709994"
      ]
     },
     "execution_count": 50,
     "metadata": {},
     "output_type": "execute_result"
    }
   ],
   "source": [
    "#라이브러리 가져오는 명령어 import\n",
    "import random\n",
    "\n",
    "random.random()"
   ]
  },
  {
   "cell_type": "code",
   "execution_count": 51,
   "id": "4c12d2a9",
   "metadata": {},
   "outputs": [
    {
     "name": "stdout",
     "output_type": "stream",
     "text": [
      "Help on built-in function random:\n",
      "\n",
      "random() method of random.Random instance\n",
      "    random() -> x in the interval [0, 1).\n",
      "\n"
     ]
    }
   ],
   "source": [
    "help(random.random)"
   ]
  },
  {
   "cell_type": "code",
   "execution_count": 56,
   "id": "ef35675e",
   "metadata": {},
   "outputs": [
    {
     "data": {
      "text/plain": [
       "2"
      ]
     },
     "execution_count": 56,
     "metadata": {},
     "output_type": "execute_result"
    }
   ],
   "source": [
    "# 1 ~ 10까지 숫자를 렌텀하게 출력\n",
    "random.randint(1,10)"
   ]
  },
  {
   "cell_type": "code",
   "execution_count": 57,
   "id": "a8fc7cf2",
   "metadata": {},
   "outputs": [
    {
     "name": "stdout",
     "output_type": "stream",
     "text": [
      "Help on method randint in module random:\n",
      "\n",
      "randint(a, b) method of random.Random instance\n",
      "    Return random integer in range [a, b], including both end points.\n",
      "\n"
     ]
    }
   ],
   "source": [
    "help(random.randint)"
   ]
  },
  {
   "cell_type": "markdown",
   "id": "68ad946d",
   "metadata": {},
   "source": [
    "구구단 게임 형식\n",
    "\n",
    "```\n",
    "구구단을 외자! 구구단을 외자!\n",
    "7 x 9 ? 63\n",
    "3 x 7 ? 21\n",
    "```\n"
   ]
  },
  {
   "cell_type": "code",
   "execution_count": 59,
   "id": "dc7fbeac",
   "metadata": {},
   "outputs": [
    {
     "name": "stdout",
     "output_type": "stream",
     "text": [
      "9 X 8 =\n",
      "2 X 9 =\n",
      "5 X 8 =\n",
      "7 X 6 =\n",
      "5 X 6 =\n"
     ]
    }
   ],
   "source": [
    "import random\n",
    "\n",
    "for i in range(5) :\n",
    "    num1 = random.randint(2,9)\n",
    "    num2 = random.randint(1,9)\n",
    "    print(num1,'X',num2, '=')"
   ]
  },
  {
   "cell_type": "code",
   "execution_count": 60,
   "id": "f58db1c1",
   "metadata": {},
   "outputs": [
    {
     "name": "stdout",
     "output_type": "stream",
     "text": [
      "2x9 = 18\n",
      "7x9 = 64\n",
      "3x5 = 15\n",
      "9x7 = 63\n",
      "4x3 = 12\n"
     ]
    }
   ],
   "source": [
    "#입력칸을 만들어 주자\n",
    "import random\n",
    "\n",
    "for i in range(5) :\n",
    "    num1 = random.randint(2,9)\n",
    "    num2 = random.randint(1,9)\n",
    "    question = str(num1)+'x'+ str(num2)+ ' = '\n",
    "    input(question)"
   ]
  },
  {
   "cell_type": "markdown",
   "id": "4ea16de5",
   "metadata": {},
   "source": [
    "6. 반복문 안의 조건문\n",
    "렌덤 구구단 게임에서 입력된 답이 트렸을떄, 땡! 정답은OO입니다.'출력하기"
   ]
  },
  {
   "cell_type": "code",
   "execution_count": 62,
   "id": "2eb1603a",
   "metadata": {},
   "outputs": [
    {
     "name": "stdout",
     "output_type": "stream",
     "text": [
      "7x1 = 7\n",
      "4x5 = 20\n",
      "5x1 = 5\n",
      "9x1 = 9\n",
      "6x1 = 6\n"
     ]
    }
   ],
   "source": [
    "#입력칸을 만들어 주자\n",
    "import random\n",
    "\n",
    "for i in range(5) :\n",
    "    num1 = random.randint(2,9)\n",
    "    num2 = random.randint(1,9)\n",
    "    question = str(num1)+'x'+ str(num2)+ ' = '\n",
    "    # 입력된 답을 변수에 숫자롤 저장\n",
    "    answer = int(input(question))\n",
    "    \n",
    "    if answer != num1*num2 :\n",
    "        print('떙!!! 정답은', num1*num2)\n",
    "        "
   ]
  },
  {
   "cell_type": "markdown",
   "id": "f1351133",
   "metadata": {},
   "source": [
    "1분터 30 까지 숫자의 홀수 짝수 판별하기"
   ]
  },
  {
   "cell_type": "code",
   "execution_count": 67,
   "id": "3d8fea54",
   "metadata": {},
   "outputs": [
    {
     "name": "stdout",
     "output_type": "stream",
     "text": [
      "1 홀수\n",
      "2 짝수\n",
      "3 홀수\n",
      "4 짝수\n",
      "5 홀수\n",
      "6 짝수\n",
      "7 홀수\n",
      "8 짝수\n",
      "9 홀수\n",
      "10 짝수\n",
      "11 홀수\n",
      "12 짝수\n",
      "13 홀수\n",
      "14 짝수\n",
      "15 홀수\n",
      "16 짝수\n",
      "17 홀수\n",
      "18 짝수\n",
      "19 홀수\n",
      "20 짝수\n",
      "21 홀수\n",
      "22 짝수\n",
      "23 홀수\n",
      "24 짝수\n",
      "25 홀수\n",
      "26 짝수\n",
      "27 홀수\n",
      "28 짝수\n",
      "29 홀수\n",
      "30 짝수\n"
     ]
    }
   ],
   "source": [
    "for i in range(1,31) :\n",
    "    if i%2 == 1:\n",
    "        print(i, '홀수')\n",
    "    else :\n",
    "        print(i, '짝수')"
   ]
  },
  {
   "cell_type": "code",
   "execution_count": null,
   "id": "533919ae",
   "metadata": {},
   "outputs": [],
   "source": []
  }
 ],
 "metadata": {
  "kernelspec": {
   "display_name": "Python 3 (ipykernel)",
   "language": "python",
   "name": "python3"
  },
  "language_info": {
   "codemirror_mode": {
    "name": "ipython",
    "version": 3
   },
   "file_extension": ".py",
   "mimetype": "text/x-python",
   "name": "python",
   "nbconvert_exporter": "python",
   "pygments_lexer": "ipython3",
   "version": "3.9.7"
  }
 },
 "nbformat": 4,
 "nbformat_minor": 5
}
